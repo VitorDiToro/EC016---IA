{
 "cells": [
  {
   "cell_type": "markdown",
   "metadata": {},
   "source": [
    "**Aluno:** Vitor Rodrigues Di Toro <br>\n",
    "**Matrícula:** 983"
   ]
  },
  {
   "cell_type": "markdown",
   "metadata": {},
   "source": [
    "## 1) Utilização de matrizes no Python:"
   ]
  },
  {
   "cell_type": "markdown",
   "metadata": {},
   "source": [
    "### a. Crie uma matriz.\n",
    "```\n",
    "x = [-1.3 sqrt(3) (1+2+3)*4/5]\n",
    "```"
   ]
  },
  {
   "cell_type": "code",
   "execution_count": 1,
   "metadata": {},
   "outputs": [
    {
     "name": "stdout",
     "output_type": "stream",
     "text": [
      "x = [-1.3         1.73205081  4.8       ]\n"
     ]
    }
   ],
   "source": [
    "import math\n",
    "import numpy as np\n",
    "\n",
    "x =  np.array([-1.3, math.sqrt(3), (1+2+3)*4/5])\n",
    "\n",
    "print(\"x = \" + str(x))"
   ]
  },
  {
   "cell_type": "markdown",
   "metadata": {},
   "source": [
    "### b. Acrescente um novo elemento na quarta posição da matriz.\n",
    "```\n",
    "abs(x(1))\n",
    "```"
   ]
  },
  {
   "cell_type": "code",
   "execution_count": 2,
   "metadata": {},
   "outputs": [
    {
     "name": "stdout",
     "output_type": "stream",
     "text": [
      "x = [-1.3         1.73205081  4.8         1.3       ]\n"
     ]
    }
   ],
   "source": [
    "x = np.insert(x,3,abs(x[0]))\n",
    "\n",
    "print(\"x = \" + str(x))"
   ]
  },
  {
   "cell_type": "markdown",
   "metadata": {},
   "source": [
    "### c. Crie uma nova matriz.\n",
    "```\n",
    "y = [1 2 3 4]\n",
    "```\n"
   ]
  },
  {
   "cell_type": "code",
   "execution_count": 3,
   "metadata": {},
   "outputs": [
    {
     "name": "stdout",
     "output_type": "stream",
     "text": [
      "y = [1 2 3 4]\n"
     ]
    }
   ],
   "source": [
    "y = np.array([1, 2, 3, 4])\n",
    "\n",
    "print(\"y = \" + str(y))"
   ]
  },
  {
   "cell_type": "markdown",
   "metadata": {},
   "source": [
    "### d. Execute os seguintes comandos, mostre o resultado para cada um deles:\n",
    "```\n",
    "i. x+y\n",
    "ii. x-y\n",
    "iii. y’ (transposto)\n",
    "iv. x*y (elemento a elemento)\n",
    "v. x*y’ (elemento a elemento)\n",
    "vi. x.*y (np.dot)\n",
    "vii. x./y (divisão elemento por elemento)\n",
    "viii. x.^y (exponencial elemento a elemento)\n",
    "ix. z = [x y] (concatenação de matrizes)\n",
    "```"
   ]
  },
  {
   "cell_type": "code",
   "execution_count": 4,
   "metadata": {},
   "outputs": [
    {
     "name": "stdout",
     "output_type": "stream",
     "text": [
      "\n",
      "   I. - (x+y) = [-0.3         3.73205081  7.8         5.3       ]\n",
      "\n",
      "  II. - (x-y) = [-2.3        -0.26794919  1.8        -2.7       ]\n",
      "\n",
      " III. - (y') = [1 2 3 4]\n",
      "\n",
      " III. (Alternativo) - (y') =\n",
      "[[1]\n",
      " [2]\n",
      " [3]\n",
      " [4]]\n",
      "\n",
      "  IV. - (x*y) = [-1.3         3.46410162 14.4         5.2       ]\n",
      "\n",
      "   v. - (x*y') = [-1.3         3.46410162 14.4         5.2       ]\n",
      "\n",
      "   V. (Alternativo) - (x*y') = \n",
      "[[-1.3         1.73205081  4.8         1.3       ]\n",
      " [-2.6         3.46410162  9.6         2.6       ]\n",
      " [-3.9         5.19615242 14.4         3.9       ]\n",
      " [-5.2         6.92820323 19.2         5.2       ]]\n",
      "\n",
      "  VI. - (x.*y) = 21.76410161513775\n",
      "\n",
      " VII. - (x./y) = [-1.3        0.8660254  1.6        0.325    ]\n",
      "\n",
      "VIII. - (x.^y) = [ -1.3      3.     110.592    2.8561]\n",
      "\n",
      " IX. - z = [x y] = [-1.3         1.73205081  4.8         1.3         1.          2.\n",
      "  3.          4.        ]\n"
     ]
    }
   ],
   "source": [
    "print(\"\\n   I. - (x+y) = \" + str(x+y))\n",
    "\n",
    "print(\"\\n  II. - (x-y) = \" + str(x-y))\n",
    "\n",
    "#  Como o NumPy ao transpor um Vetor Linha (1xN) não o transforma\n",
    "# em um Vetor Coluna (Nx1), propuz como solução alternativa para \n",
    "# este problema o reshape do vetor Y.\n",
    "print(\"\\n III. - (y') = \" + str(y.T))\n",
    "print(\"\\n III. (Alternativo) - (y') =\\n\" + str(y.reshape(4,1)))\n",
    "\n",
    "print(\"\\n  IV. - (x*y) = \" + str(x * y))\n",
    "\n",
    "#  Dei reshape pois uma multiplicação de elemento à elemento de\n",
    "# um vetor (1x4) por outro vetor (4x1) deve gerar uma matriz (4x4).\n",
    "# Não pude utilizat a transposta do vetor y (y.T ou y.transpose())\n",
    "# pois o NumPy não trabalha com o conceito de Vetor Linha (1xN) e \n",
    "# Vetor Coluna (Nx1); para o NumPy a transposta de um array (1xN)\n",
    "# é o proprio array.\n",
    "print(\"\\n   v. - (x*y') = \" + str(x*y.T))\n",
    "print(\"\\n   V. (Alternativo) - (x*y') = \\n\" + str(x * y.reshape(4,1)))\n",
    "\n",
    "#  Fiquei confuso quanto a notação '.*' (ponto asterisco), pois a mesma\n",
    "# é comumente utilizada p/ operação de multiplicação ponto à ponto (elemento\n",
    "# à elemento), como pode ser comprovado em softwares como matlab e octave.\n",
    "# Se nesta questão que era para fazer a multiplicação ponto à ponto, o que era\n",
    "# para ser feito nos 2 exemplos anteriores???\n",
    "print(\"\\n  VI. - (x.*y) = \" + str(x.dot(y)))\n",
    "\n",
    "print(\"\\n VII. - (x./y) = \" + str(x/y))\n",
    "\n",
    "print(\"\\nVIII. - (x.^y) = \" + str(x**y))\n",
    "\n",
    "z = np.concatenate((x,y), axis=0)\n",
    "print(\"\\n IX. - z = [x y] = \" + str(z))"
   ]
  },
  {
   "cell_type": "markdown",
   "metadata": {},
   "source": [
    "## 2)Crie um vetor sequência:"
   ]
  },
  {
   "cell_type": "markdown",
   "metadata": {},
   "source": [
    "### a. Crie um vetor sequência, de 0 a 10, com incremento de 2."
   ]
  },
  {
   "cell_type": "code",
   "execution_count": 5,
   "metadata": {},
   "outputs": [
    {
     "name": "stdout",
     "output_type": "stream",
     "text": [
      "[ 0  2  4  6  8 10]\n"
     ]
    }
   ],
   "source": [
    "vet = np.arange(0,11,2)\n",
    "print(vet)"
   ]
  },
  {
   "cell_type": "markdown",
   "metadata": {},
   "source": [
    "### b. Crie um vetor sequência de 1 a 5 com incremento unitário, tanto os colchetes quanto o incremento podem ser omitidos."
   ]
  },
  {
   "cell_type": "code",
   "execution_count": 6,
   "metadata": {},
   "outputs": [
    {
     "name": "stdout",
     "output_type": "stream",
     "text": [
      "[1 2 3 4 5]\n"
     ]
    }
   ],
   "source": [
    "vet = np.arange(1,6)\n",
    "print(vet)"
   ]
  },
  {
   "cell_type": "markdown",
   "metadata": {},
   "source": [
    "### c. Consulte o tamanho da matriz v com o comando, a resposta é apresentada em número de linhas e número de colunas."
   ]
  },
  {
   "cell_type": "code",
   "execution_count": 7,
   "metadata": {},
   "outputs": [
    {
     "data": {
      "text/plain": [
       "(3, 5)"
      ]
     },
     "execution_count": 7,
     "metadata": {},
     "output_type": "execute_result"
    }
   ],
   "source": [
    "# Cria a matriz\n",
    "mat = np.arange(15).reshape(3, 5)\n",
    "\n",
    "# Consulta a dimensão da matriz\n",
    "mat.shape"
   ]
  },
  {
   "cell_type": "markdown",
   "metadata": {},
   "source": [
    "### d. Crie um vetor v2, de 0 a 10 com 6 elementos"
   ]
  },
  {
   "cell_type": "code",
   "execution_count": 8,
   "metadata": {},
   "outputs": [
    {
     "name": "stdout",
     "output_type": "stream",
     "text": [
      "[ 0.  2.  4.  6.  8. 10.]\n"
     ]
    }
   ],
   "source": [
    "v2 = np.linspace(0,10,6)\n",
    "print(v2)"
   ]
  },
  {
   "cell_type": "markdown",
   "metadata": {},
   "source": [
    "## 3)Funções matriciais elementares:"
   ]
  },
  {
   "cell_type": "markdown",
   "metadata": {},
   "source": [
    "### a. Crie um vetor com 1000 valores aleatórios"
   ]
  },
  {
   "cell_type": "code",
   "execution_count": 9,
   "metadata": {},
   "outputs": [],
   "source": [
    "vet = np.random.random(1000)"
   ]
  },
  {
   "cell_type": "markdown",
   "metadata": {},
   "source": [
    "### b. Calcule a média e o desvio padrão dos valores do vetor V3."
   ]
  },
  {
   "cell_type": "code",
   "execution_count": 10,
   "metadata": {},
   "outputs": [
    {
     "name": "stdout",
     "output_type": "stream",
     "text": [
      "Média: 0.49479702902815875\n",
      "Desvio padrão: 0.2875924902762872\n",
      "Varinâcia: 0.08270944046331635\n"
     ]
    }
   ],
   "source": [
    "print(\"Média: \" + str(vet.mean()))\n",
    "print(\"Desvio padrão: \" + str(vet.std()))\n",
    "print(\"Varinâcia: \" + str(vet.var()))"
   ]
  },
  {
   "cell_type": "markdown",
   "metadata": {},
   "source": [
    "### c. Crie um vetor 0<x<2*pi."
   ]
  },
  {
   "cell_type": "code",
   "execution_count": 11,
   "metadata": {},
   "outputs": [],
   "source": [
    "vet2pi = np.arange(0,(2*np.pi),0.00001)"
   ]
  },
  {
   "cell_type": "markdown",
   "metadata": {},
   "source": [
    "### d. Mostre o gráfico com a função f(x) = sen(x). "
   ]
  },
  {
   "cell_type": "code",
   "execution_count": 13,
   "metadata": {},
   "outputs": [
    {
     "data": {
      "text/plain": [
       "<function matplotlib.pyplot.show>"
      ]
     },
     "execution_count": 13,
     "metadata": {},
     "output_type": "execute_result"
    },
    {
     "data": {
      "image/png": "[encoded data removed]",
      "text/plain": [
       "<matplotlib.figure.Figure at 0x7f55721a6fd0>"
      ]
     },
     "metadata": {},
     "output_type": "display_data"
    }
   ],
   "source": [
    "import matplotlib.pyplot as plt\n",
    "\n",
    "y = np.sin(vet2pi)\n",
    "\n",
    "plt.plot(vet2pi, y)\n",
    "plt.grid(True)\n",
    "plt.title(\"f(x) = sen(x)\")\n",
    "plt.show"
   ]
  },
  {
   "cell_type": "markdown",
   "metadata": {},
   "source": [
    "### e. Crie a matriz m de 1 linha e 1000 colunas, todas preenchidas com o valor 1."
   ]
  },
  {
   "cell_type": "code",
   "execution_count": 14,
   "metadata": {},
   "outputs": [],
   "source": [
    "# Opção 1\n",
    "mat = np.full((1, 1000), 1)\n",
    "# Opção 2\n",
    "mat = np.ones((1,1000))"
   ]
  },
  {
   "cell_type": "markdown",
   "metadata": {},
   "source": [
    "### f. Mostre quantos elementos tem na matriz."
   ]
  },
  {
   "cell_type": "code",
   "execution_count": 15,
   "metadata": {},
   "outputs": [
    {
     "data": {
      "text/plain": [
       "1000"
      ]
     },
     "execution_count": 15,
     "metadata": {},
     "output_type": "execute_result"
    }
   ],
   "source": [
    "np.size(mat)"
   ]
  },
  {
   "cell_type": "markdown",
   "metadata": {},
   "source": [
    "## 4) Criação de um programa no Python (script)."
   ]
  },
  {
   "cell_type": "markdown",
   "metadata": {},
   "source": [
    "### a. No editor que será aberto, entre com o código:\n",
    "```python\n",
    "//Exemplo de arquivo tipo script\n",
    "//script1: desenha o grafico f(x) = sin(x)*exp(x), -2*pi < x < 2*pi\n",
    "x = -2*pi : 0.1 : 2*pi;\n",
    "plot (x, sin(x).* exp(x));\n",
    "title('Gráfico exemplo');\n",
    "```\n",
    "\n",
    "### b. Comente o que cada uma das linhas do código faz.\n",
    "### c. Execute e mostre o resultado.\n"
   ]
  },
  {
   "cell_type": "code",
   "execution_count": 16,
   "metadata": {},
   "outputs": [
    {
     "data": {
      "text/plain": [
       "<function matplotlib.pyplot.show>"
      ]
     },
     "execution_count": 16,
     "metadata": {},
     "output_type": "execute_result"
    },
    {
     "data": {
      "image/png": "[encoded data removed]",
      "text/plain": [
       "<matplotlib.figure.Figure at 0x7f5588035710>"
      ]
     },
     "metadata": {},
     "output_type": "display_data"
    }
   ],
   "source": [
    "#Exemplo de arquivo tipo script\n",
    "#script1: desenha o grafico f(x) = sin(x)*exp(x), -2*pi < x < 2*pi\n",
    "\n",
    "x = np.linspace((-2 * np.pi),(2 * np.pi), 1000) # Define região de existência (valores de X)\n",
    "y = np.sin(x) * np.exp(x)                       # Calcula o f(x)\n",
    "\n",
    "plt.plot(x, y)                                  # Desenha o gráfico\n",
    "plt.grid(True)                                  # Adiciona o grid no gráfico\n",
    "plt.title(\"Gráfico exemplo\")                    # Adiciona o título ao gráfico\n",
    "plt.show                                        # Exibe o gráfico desenhado"
   ]
  },
  {
   "cell_type": "markdown",
   "metadata": {},
   "source": [
    "## 5)Criação de um programa no Python (função).\n",
    "### a. O que distingue um script de uma função é a possibilidade de, na função, poder passar e retornar parâmetros.\n",
    "### b. Crie um novo arquivo chamado func1, digite o código abaixo e salve.\n",
    "```python\n",
    "function y=func1(inicio,incremento,fim)\n",
    "x = inicio:incremento:fim;\n",
    "y=sin(x).*exp(x);\n",
    "plot(x, y);\n",
    "title('Gráfico exemplo - II');\n",
    "```\n",
    "### c. Utilize a função. Mostre o resultado."
   ]
  },
  {
   "cell_type": "code",
   "execution_count": 17,
   "metadata": {},
   "outputs": [
    {
     "data": {
      "text/plain": [
       "<function matplotlib.pyplot.show>"
      ]
     },
     "execution_count": 17,
     "metadata": {},
     "output_type": "execute_result"
    },
    {
     "data": {
      "image/png": "[encoded data removed]",
      "text/plain": [
       "<matplotlib.figure.Figure at 0x7f5571657550>"
      ]
     },
     "metadata": {},
     "output_type": "display_data"
    }
   ],
   "source": [
    "def meu_grafico(inicio, incremento, fim):\n",
    "\n",
    "    x = np.arange(inicio,fim, incremento) # Define região de existência (valores de X)\n",
    "    y = np.sin(x) * np.exp(x)             # Calcula o f(x)\n",
    "\n",
    "    plt.plot(x, y)                        # Desenha o gráfico\n",
    "    plt.grid(True)                        # Adiciona o grid no gráfico\n",
    "    plt.title(\"Gráfico exemplo\")          # Adiciona o título ao gráfico\n",
    "    return plt\n",
    "\n",
    "myGraph = meu_grafico((-2 * np.pi), 0.00001 ,(2 * np.pi))\n",
    "myGraph.show"
   ]
  },
  {
   "cell_type": "markdown",
   "metadata": {},
   "source": [
    "## 6)Crie sua própria função\n",
    "### a. Crie uma nova função chamada FuzzySet que crie um conjunto Fuzzy triangular, cujos parâmetros de entrada sejam: O ponto de máximo do conjunto (Max), a distância entre o ponto de máximo e as laterais do triangulo (Range) e o universo de discurso (Size). Este conjunto deve obedecer a seguinte equação.\n",
    "\n",
    "![img1](http://pix.toile-libre.org/upload/img/1522608154.png)"
   ]
  },
  {
   "cell_type": "markdown",
   "metadata": {},
   "source": [
    "### b. Execute a função para os valores Max=500, Range=200, Size=100. Imprima o gráfico gerado pela função.\n",
    "### c. Copie o código da função."
   ]
  },
  {
   "cell_type": "code",
   "execution_count": 18,
   "metadata": {},
   "outputs": [
    {
     "data": {
      "text/plain": [
       "<function matplotlib.pyplot.show>"
      ]
     },
     "execution_count": 18,
     "metadata": {},
     "output_type": "execute_result"
    },
    {
     "data": {
      "image/png": "[encoded data removed]",
      "text/plain": [
       "<matplotlib.figure.Figure at 0x7f55716579e8>"
      ]
     },
     "metadata": {},
     "output_type": "display_data"
    }
   ],
   "source": [
    "def fuzzy_set(x, f_max, f_range, f_size):\n",
    "    a = f_max - f_range\n",
    "    b = f_max + f_range\n",
    "    m = f_max\n",
    "    \n",
    "    if x <= (f_max - f_range) :\n",
    "        return 0\n",
    "    elif x >= (f_max - f_range) and x <= (f_max):\n",
    "        return (x - a) / (m - a)\n",
    "    elif x >= (f_max) and x <= (f_max+f_range):\n",
    "        return (b - x) / (b - m)\n",
    "    else:\n",
    "        return 0\n",
    "    \n",
    "\n",
    "x = np.arange(200,800)\n",
    "y = [fuzzy_set(i, 500, 200, 100) for i in x]\n",
    "plt.plot(x, y)\n",
    "plt.grid(True)\n",
    "plt.title(\"Exercício 6\")\n",
    "plt.show\n",
    "    "
   ]
  }
 ],
 "metadata": {
  "kernelspec": {
   "display_name": "Python 3",
   "language": "python",
   "name": "python3"
  },
  "language_info": {
   "codemirror_mode": {
    "name": "ipython",
    "version": 3
   },
   "file_extension": ".py",
   "mimetype": "text/x-python",
   "name": "python",
   "nbconvert_exporter": "python",
   "pygments_lexer": "ipython3",
   "version": "3.6.4"
  }
 },
 "nbformat": 4,
 "nbformat_minor": 2
}
