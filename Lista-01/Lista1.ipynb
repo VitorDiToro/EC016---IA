{
 "cells": [
  {
   "cell_type": "markdown",
   "metadata": {},
   "source": [
    "**Aluno:** Vitor Rodrigues Di Toro <br>\n",
    "**Matricula:** 983"
   ]
  },
  {
   "cell_type": "markdown",
   "metadata": {},
   "source": [
    "## 1) Defina com suas próprias palavras inteligência artificial."
   ]
  },
  {
   "cell_type": "markdown",
   "metadata": {},
   "source": [
    "Método pseudo-inteligente para a tomada de decisões."
   ]
  },
  {
   "cell_type": "markdown",
   "metadata": {},
   "source": [
    "## 2) Descreva os 4 paradigmas da IA e cite exemplos de cada um deles."
   ]
  },
  {
   "cell_type": "markdown",
   "metadata": {},
   "source": [
    "- Evolucionista (Metáfora da natureza);\n",
    "    - Algoritmos genéticos;\n",
    "    - Vida artificial;\n",
    "\n",
    "- Simbólica (Metáfora linguística);\n",
    "    - Sistemas especialistas;\n",
    "\n",
    "- Conexionista (Metáfora cerebral);\n",
    "    - RNAs\n",
    "    \n",
    "- Estatística/Probabilística;\n",
    "    - Redes Bayesianas;\n",
    "    - Sistemas Fuzzy"
   ]
  },
  {
   "cell_type": "markdown",
   "metadata": {},
   "source": [
    "## 3) Em quais tipos de problemas devemos buscar soluções na inteligência artificial?\n"
   ]
  },
  {
   "cell_type": "markdown",
   "metadata": {},
   "source": [
    "- Aqueles em que a solução algorítmica têm altíssima complexidade;\n",
    "- Aqueles que o ser humano é capaz de resolver;\n",
    "- Aqueles que os seres vivos são capazes de resolver, como jogar xadrez, reconhecer faces, traduzir simbolos, etc...\n"
   ]
  },
  {
   "cell_type": "markdown",
   "metadata": {},
   "source": [
    "## 4) O que é uma heurística?"
   ]
  },
  {
   "cell_type": "markdown",
   "metadata": {},
   "source": [
    "![Qts9B1o](https://i.imgur.com/Qts9B1o.png)\n",
    "\n",
    "Em outras palavras, heuristica é um termo bonito para se cagar regra =D"
   ]
  },
  {
   "cell_type": "markdown",
   "metadata": {},
   "source": [
    "## 5) Compare a Busca Cega com a Busca Heurística, cite exemplos de problemas que podem ser resolvidos por cada uma destas estratégias de busca.\n"
   ]
  },
  {
   "cell_type": "code",
   "execution_count": null,
   "metadata": {},
   "outputs": [],
   "source": []
  },
  {
   "cell_type": "markdown",
   "metadata": {},
   "source": [
    "## 6) Como funciona a busca em largura e a busca em profundidade?"
   ]
  },
  {
   "cell_type": "markdown",
   "metadata": {},
   "source": [
    "**Busca em Largura:** O método realiza a busca expantido a árvore em seus níveis, istó, visita um nível interiro antes de partir para o próximo.\n",
    "<br><br>\n",
    "**Busca em Profundidade:** O método realiza a busca escolhendo ramos da árvore, pratindo da raiz e descendo até a folha. Somento depois de encontrar uma folha o algoritmo parte para a ramificação irmã mais próxima."
   ]
  },
  {
   "cell_type": "markdown",
   "metadata": {},
   "source": [
    "## 7) Um determinado problema possui como teste de objetivo que o valor do estado seja igual a 6. Seu espaço de estados é representado pela árvore abaixo.\n",
    "### A. Marque com uma seta o estado que representará a solução caso a estratégia de busca seja em largura.\n",
    "### B. Idem a letra a, mas caso seja em profundidade."
   ]
  },
  {
   "cell_type": "markdown",
   "metadata": {},
   "source": [
    "![0DukZ9n](https://i.imgur.com/0DukZ9n.jpg)"
   ]
  },
  {
   "cell_type": "markdown",
   "metadata": {},
   "source": [
    "\n",
    "### C. Determine o custo de cada uma das soluções.\n",
    "\n"
   ]
  },
  {
   "cell_type": "markdown",
   "metadata": {},
   "source": [
    "**Busca em Largura:** 10 <br>\n",
    "**Busca em Profundidade:** 17"
   ]
  },
  {
   "cell_type": "markdown",
   "metadata": {},
   "source": [
    "### D. Qual das duas soluções é ideal, em termos de custo, para o problema?"
   ]
  },
  {
   "cell_type": "markdown",
   "metadata": {},
   "source": [
    "Busca em Largura."
   ]
  },
  {
   "cell_type": "markdown",
   "metadata": {},
   "source": [
    "## 8) Assinale [V]erdadeiro ou [F]also para as alternativas abaixo:\n"
   ]
  },
  {
   "cell_type": "markdown",
   "metadata": {},
   "source": [
    "[`F`] Um dos métodos de busca cega mais utilizados é o método de busca em largura. Pode-se dizer que neste tipo de busca a solução sempre será encontrada, porém com um custo computacional muito grande.\n",
    "\n",
    "`Esta afirmação só é verdadeira para um contunto resposta não vazio, o que não é garantido na afirmação.`\n"
   ]
  },
  {
   "cell_type": "markdown",
   "metadata": {},
   "source": [
    "[`F`] Para a figura abaixo, pode-se afirmar que o método de busca utilizado para localizar o elemento 4 (em destaque) foi a busca em profundidade.\n",
    "\n",
    "\n",
    "![bCftotT](https://i.imgur.com/bCftotT.png)\n",
    "<br>\n",
    "`Com uma busca em profundidade o primeiro elemento 4 a ser encontro seria o do nó folha mais a esquerda, passando pelos nós 0, 0 e 0.`"
   ]
  },
  {
   "cell_type": "markdown",
   "metadata": {},
   "source": [
    "[`F`] Na busca em profundidade, pode-se dizer que a solução sempre será encontrada, porém a mesma poderá não ser ótima.\n",
    "\n",
    "`Esta afirmação só pode ser verdadeira para um conjunto resposta não vazio.`\n"
   ]
  },
  {
   "cell_type": "markdown",
   "metadata": {},
   "source": [
    "[`V`] As buscas em largura e profundidade não fazem uso de nenhum conhecimento para encontrar sua solução, fazendo uma busca exaustiva dentro do seu espaço.\n"
   ]
  },
  {
   "cell_type": "markdown",
   "metadata": {},
   "source": [
    "[`F`] Na técnica de busca conhecida como PSO, populações de indivíduos são criados e submetidos aos operadores genéticos: seleção, recombinação (crossover) e mutação.\n",
    "\n",
    "`Seleção, recombinação (crossover) e mutação são operadores de Argoritmo genético.`"
   ]
  },
  {
   "cell_type": "markdown",
   "metadata": {},
   "source": [
    "[`F`] Em termos de desempenho, um algoritmo Genético sempre terá um desempenho melhor que os algoritmos de busca específicos.\n",
    "\n",
    "`Essa é tão obvia que nem precisa justificar, né :P`"
   ]
  },
  {
   "cell_type": "markdown",
   "metadata": {},
   "source": [
    "[`V`] Os algoritmos genéticos podem ser considerados técnicas não totalmente aleatórias: possuem componentes aleatórios mas os próximos passos são baseados em informações da população corrente.\n"
   ]
  },
  {
   "cell_type": "markdown",
   "metadata": {},
   "source": [
    "## 9) Resolva o quebra-cabeça de 8 peças abaixo utilizando:\n",
    "![nx9aQjH](https://i.imgur.com/nx9aQjH.png)\n"
   ]
  },
  {
   "cell_type": "markdown",
   "metadata": {},
   "source": [
    "### a) Função heurística h1 = no de elementos em posições erradas.\n"
   ]
  },
  {
   "cell_type": "markdown",
   "metadata": {},
   "source": [
    "h1 = 4\n",
    "\n",
    "![NhV7PVy](https://i.imgur.com/NhV7PVy.png)"
   ]
  },
  {
   "cell_type": "markdown",
   "metadata": {},
   "source": [
    "### b) Função heurística h2 = soma das distâncias dn de cada elemento à posição final."
   ]
  },
  {
   "cell_type": "markdown",
   "metadata": {},
   "source": [
    "h2(1) = 1<br>\n",
    "h2(2) = 1<br>\n",
    "h2(3) = 1<br>\n",
    "h2(4) = 0<br>\n",
    "h2(5) = 0<br>\n",
    "h2(6) = 0<br>\n",
    "h2(7) = 0<br>\n",
    "h2(8) = 1<br>\n",
    "<br>\n",
    "h2(Total) = 4\n",
    "\n",
    "![NhV7PVy](https://i.imgur.com/NhV7PVy.png)"
   ]
  },
  {
   "cell_type": "markdown",
   "metadata": {},
   "source": [
    "## 10) Considerando a Tabela 10 e a Figura 10 abaixo, faça:\n",
    "\n",
    "![yVZE4nV](https://i.imgur.com/yVZE4nV.jpg)"
   ]
  },
  {
   "cell_type": "markdown",
   "metadata": {},
   "source": [
    "### a) Utilizando a busca A*, mostre qual a rota de menor custo partindo da cidade de Oradea com destino para Bucarest. Mostre todos os passos da estratégia de busca.\n"
   ]
  },
  {
   "cell_type": "markdown",
   "metadata": {},
   "source": [
    "**Nó Atual:** Oradea\n",
    "- Zerind: (71 + 374) = 445\n",
    "- Sibiu: (151 + 253) = 404\n",
    "    \n",
    "**Nó Atual:** Sibiu\n",
    "- Rimnicu Vilcea: (80 + 193) = 273\n",
    "- Fagaras: (99 + 176) =  275\n",
    "\n",
    "**Nó Atual:** Rimnicu Vilcea\n",
    "- Craiova: (146 + 160) = 306\n",
    "- Pitesti: (97 + 100) = 197\n",
    "\n",
    "**Nó Atual:** Pitesti\n",
    "- Bucarest: (101 + 0)\n",
    "\n",
    "**Nó Atual:** Bucarest\n",
    "<br>\n",
    "<br>\n",
    "**Caminho encontrado:** Oradea >> Sibiu >> Rimnicu Vilcea >> Pitesti >> Bucarest<br>\n",
    "**Distância total percorrida:** 429Km"
   ]
  },
  {
   "cell_type": "markdown",
   "metadata": {},
   "source": [
    "### b) Comprove a eficiência da estratégia de busca A* (distância percorrida da cidade de origem até a cidade de destino). Para comprovar a eficiência, compare com a solução que seria encontrada caso a heurística utilizada fosse somente .\n"
   ]
  },
  {
   "cell_type": "markdown",
   "metadata": {},
   "source": [
    "**Nó Atual:** Oradea\n",
    "- Zerind: 374\n",
    "- Sibiu: 253\n",
    "    \n",
    "**Nó Atual:** Sibiu\n",
    "- Rimnicu Vilcea: 193\n",
    "- Fagaras: 176\n",
    "\n",
    "**Nó Atual:** Fagaras\n",
    "- Bucarest: 0\n",
    "\n",
    "**Nó Atual:** Bucarest\n",
    "<br>\n",
    "<br>\n",
    "**Caminho encontrado:** Oradea >> Sibiu >> Fagaras >> Bucarest<br>\n",
    "**Distância total percorrida:** 461Km\n"
   ]
  },
  {
   "cell_type": "markdown",
   "metadata": {},
   "source": [
    "## 11) O que são algoritmos genéticos e que tipo de problemas eles podem resolver?"
   ]
  },
  {
   "cell_type": "markdown",
   "metadata": {},
   "source": [
    "GA são técnicas heurísticas que se propõe à localizar o ponto otimo global de uma função dentro do universo amostrado.\n"
   ]
  },
  {
   "cell_type": "markdown",
   "metadata": {},
   "source": [
    "## 12) Explique com suas palavras os seguintes componentes dos algoritmos genéticos: seleção, crossover e mutação. Dê o máximo de detalhes.\n"
   ]
  },
  {
   "cell_type": "markdown",
   "metadata": {},
   "source": [
    "- Seleção: Escolha de um indivíduo.\n",
    "- Crossover: Combinação de caracteristas do pai 1 e pai 2, para gerar o filho.\n",
    "- Mutação: Mutação aleatória em um caracteristica do filho gerado."
   ]
  },
  {
   "cell_type": "markdown",
   "metadata": {},
   "source": [
    "## 13) Considere um problema de otimização no qual a função a ser otimizada pode ser calculada através da equação Maximizar a função , com e pertencentes ao intervalo . Caso fosse utilizado um algoritmo genético para solucioná-lo, para evitar o valor de (,)=0, a função de avaliação seria adaptada para (,)=1+(,). Cada cromossomo para este problema será representado por 8 bits, sendo os primeiros 4 bits representando o valor de e os últimos 4 bits, o valor de . Com base nestas informações, responda:\n"
   ]
  },
  {
   "cell_type": "markdown",
   "metadata": {},
   "source": [
    "### a) Calcule o grau de adaptação de cada um dos indivíduos apresentados na Tabela 13. Lembrando que representa a função de avaliação do problema.\n",
    "\n",
    "![zkyGy5n](https://i.imgur.com/zkyGy5n.png)\n"
   ]
  },
  {
   "cell_type": "markdown",
   "metadata": {},
   "source": [
    "Devido a ao erro no enunciádo, adotarei:\n",
    "- F(X, Y) = | (X^2 + 2 x Y -5)^2 - (X + Y^2 - (2X x Y))^2 / 10E9 |\n",
    "- G(X, Y) = 1 + F(X, Y)"
   ]
  },
  {
   "cell_type": "code",
   "execution_count": 1,
   "metadata": {},
   "outputs": [
    {
     "name": "stdout",
     "output_type": "stream",
     "text": [
      "G(i = 1) = 35346.3381969276\n",
      "G(i = 2) = 41.250134426\n",
      "G(i = 3) = 260.7812449295\n",
      "G(i = 4) = 260.7812449295\n",
      "G(i = 5) = 0.0142339848\n",
      "G(i = 6) = 36400.4832518184\n"
     ]
    }
   ],
   "source": [
    "x = [0x0011, 0x1001, 0x1001, 0x1001, 0x0100, 0x1110]\n",
    "y = [0x1101, 0x1001, 0x1100, 0x1100, 0X0111, 0X0011]\n",
    "\n",
    "g = [None] * len(x)\n",
    "for i in range(len(x)):\n",
    "    g[i] = ( abs(((x[i]**2 + 2*y[i] - 5)**2 - (x[i] +y[i]**2 - (2 * x[i] * y[i]))**2)/10E9))\n",
    "    \n",
    "count = 0;\n",
    "for i in g:\n",
    "    count += 1\n",
    "    print(\"G(i = \" + str(count) + \") = \" + str(i))"
   ]
  },
  {
   "cell_type": "markdown",
   "metadata": {},
   "source": [
    "### b) Calcule o grau de aptidão de cada um dos indivíduos apresentados na Tabela 13. O grau de aptidão pode ser calculado pela equação, no qual é o grau de adaptação.\n"
   ]
  },
  {
   "cell_type": "code",
   "execution_count": 2,
   "metadata": {},
   "outputs": [
    {
     "name": "stdout",
     "output_type": "stream",
     "text": [
      "Adaptacao(1) = 48.88191136935476 %\n",
      "Adaptacao(2) = 0.05704651508033643 %\n",
      "Adaptacao(3) = 0.36064515736857466 %\n",
      "Adaptacao(4) = 0.36064515736857466 %\n",
      "Adaptacao(5) = 1.9684765633992105e-05 %\n",
      "Adaptacao(6) = 50.339732116062116 %\n"
     ]
    }
   ],
   "source": [
    "count = 0\n",
    "for i in g:\n",
    "    count += 1\n",
    "    print(\"Adaptacao(\" + str(count) + \") = \" + str(i/sum(g)*100) + \" %\")"
   ]
  },
  {
   "cell_type": "markdown",
   "metadata": {},
   "source": [
    "## c) Calcule a média de adaptação da população, através da equação."
   ]
  },
  {
   "cell_type": "code",
   "execution_count": 3,
   "metadata": {},
   "outputs": [
    {
     "name": "stdout",
     "output_type": "stream",
     "text": [
      "Ma = 12051.6080511693\n"
     ]
    }
   ],
   "source": [
    "M = sum(g)/len(g)\n",
    "print(\"Ma = \" + str(M))"
   ]
  }
 ],
 "metadata": {
  "kernelspec": {
   "display_name": "Python 3",
   "language": "python",
   "name": "python3"
  },
  "language_info": {
   "codemirror_mode": {
    "name": "ipython",
    "version": 3
   },
   "file_extension": ".py",
   "mimetype": "text/x-python",
   "name": "python",
   "nbconvert_exporter": "python",
   "pygments_lexer": "ipython3",
   "version": "3.6.4"
  }
 },
 "nbformat": 4,
 "nbformat_minor": 2
}
