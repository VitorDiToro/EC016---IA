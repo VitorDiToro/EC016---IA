{
 "cells": [
  {
   "cell_type": "markdown",
   "metadata": {},
   "source": [
    "**Aluno:** Vitor Rodrigues Di Toro <br>\n",
    "**Matricula:** 983"
   ]
  },
  {
   "cell_type": "markdown",
   "metadata": {},
   "source": [
    "### 1) Abra o arquivo “PathFindingExample”, que representa a implementação para problema de busca de caminho, e descreva quais são as funções de “teste de objetivo” e “sucessor” explicando seus funcionamentos.\n"
   ]
  },
  {
   "cell_type": "markdown",
   "metadata": {},
   "source": [
    "**Função: teste de obejtivo**, compara o estado atual com o estado destino, se o estado atual for o mesmo que o destino, retorna verdadeiro, caso contrário, retorna falso.\n",
    "\n",
    "```python\n",
    "def ObjectiveTest(self, current, target):\n",
    "    \"\"\"\n",
    "    Return ``True`` if ``current`` state corresponds to the ``target`` state\n",
    "    \"\"\"\n",
    "    solution = False\n",
    "    if current == target:\n",
    "        solution = True\n",
    "    return solution\n",
    "```\n",
    "\n",
    "**Função: sucessor**, adicionar todos os nós visízinho do nó atual, que ainda não são conhecidos, à lista de nós a serem visitados.\n",
    "\n",
    "```python\n",
    "def ExpandSolution(self, current):\n",
    "    \"\"\"\n",
    "    Returns all possible states from ``current``\n",
    "    \"\"\"\n",
    "    return self.problem.neighbors(current)\n",
    "```\n"
   ]
  },
  {
   "cell_type": "markdown",
   "metadata": {},
   "source": [
    "### 2) Adicione ao código o mapa das cidades visto no exemplo em sala de aula."
   ]
  },
  {
   "cell_type": "markdown",
   "metadata": {},
   "source": [
    "**Adicionando os nós e as arestas:**\n",
    "```Python\n",
    "nodes = ['Oradea', 'Zerind', 'Arad', 'Sibiu', 'Timisoara', 'Lugoj',\n",
    "         'Melhadia', 'Congonhal', 'Dobreta', 'Craiova', 'Pitesti',\n",
    "         'Rimnicu Vilvea', 'Fagaras', 'Busharest']\n",
    "\n",
    "edges = [('Oradea', 'Zerind'),          ('Zerind', 'Oradea'),\n",
    "         ('Oradea', 'Sibiu'),           ('Sibiu', 'Oradea'),\n",
    "         ('Zerind', 'Arad'),            ('Arad', 'Zerind'),\n",
    "         ('Arad', 'Timisoara'),         ('Timisoara', 'Arad'),\n",
    "         ('Arad', 'Sibiu'),             ('Sibiu', 'Arad'),\n",
    "         ('Timisoara', 'Lugoj'),        ('Lugoj', 'Timisoara'),\n",
    "         ('Lugog', 'Melhadia'),         ('Melhadia', 'Lugog'),\n",
    "         ('Melhadia', 'Dobreta'),       ('Dobreta', 'Melhadia'),\n",
    "         ('Dobreta', 'Craiova'),        ('Craiova', 'Dobreta'),\n",
    "         ('Craiova', 'Rimnicu Vilvea'), ('Rimnicu Vilvea', 'Craiova'),\n",
    "         ('Rimnicu Vilvea', 'Sibiu'),   ('Sibiu', 'Rimnicu Vilvea'),\n",
    "         ('Sibiu', 'Fagaras'),          ('Fagaras', 'Sibiu'),\n",
    "         ('Craiova', 'Pitesti'),        ('Pitesti', 'Craiova'),\n",
    "         ('Pitesti', 'Rimnicu Vilvea'), ('Rimnicu Vilvea', 'Pitesti'),\n",
    "         ('Busharest', 'Fagaras'),      ('Fagaras', 'Busharest'),\n",
    "         ('Busharest', 'Pitesti'),      ('Pitesti', 'Busharest')]\n",
    "```\n",
    "<br>\n",
    "**Executando a busca:**\n",
    "```Python\n",
    "start = 'Arad'\n",
    "target = 'Busharest'\n",
    "print('\\nSearching %s starting from %s...' % (target, start))\n",
    "solution, path, path_edges = SearchObj.search(start, target)\n",
    "print('Done!\\n')\n",
    "if solution:\n",
    "    print('Path found!')\n",
    "    printPath(path, start)\n",
    "    for u, v in edges:\n",
    "        if (u, v) not in path_edges:\n",
    "            G.remove_edge(u, v)\n",
    "    plotGraph(G, 1, positions)\n",
    "else:\n",
    "    print('Path not found!')\n",
    "```"
   ]
  },
  {
   "cell_type": "markdown",
   "metadata": {},
   "source": [
    "### 3) Para resolver o problema de busca de caminho, as soluções devem ser expandidas através de uma estrutura em árvore. Cada um dos filhos de um nó é uma possível solução que deverá ser avaliada comparando-a com o estado objetivo. Cada nó filho é gerado avaliando-se a próximas cidades a partir da cidade atual de acordo com um mapa de expansão. Desenhe a árvore gerada durante uma busca cujo o estado inicial é “Santa Rita do Sapucaí” e o objetivo é “Mogi-Mirim”.\n"
   ]
  },
  {
   "cell_type": "markdown",
   "metadata": {},
   "source": [
    "**Arvore Gerada:**\n",
    "<br>\n",
    "![graph](http://pix.toile-libre.org/upload/img/1522814161.png)"
   ]
  },
  {
   "cell_type": "markdown",
   "metadata": {},
   "source": [
    "### 4) Se o estado avaliado não representa o estado objetivo, um novo estado deve ser avaliado. Para isto basta seguir a avaliação para todos os nós do mesmo nível da árvore. Caso os nós do mesmo nível já foram avaliados e a solução ainda não foi encontrada, cada nó avaliado deverá ser expandido criando as soluções filhas. Essas soluções filhas são todos os estados possíveis (não repetidos) de se chegar através da solução mãe.\n"
   ]
  },
  {
   "cell_type": "markdown",
   "metadata": {},
   "source": [
    "#### A -  A função “ExpandSolution” é responsável por expandir a solução criando os próximos estados a serem avaliados em busca da possível solução. Explique seu funcionamento utilizando o estado “Pouso Alegre”.\n"
   ]
  },
  {
   "cell_type": "markdown",
   "metadata": {},
   "source": [
    "Supondo que estado origem seja `Santa Rita`, o estado destino seja `Congonhal` e que os estados `Itajuba` e `Cochoeira de Minas` já tem sido vizidados, como ilustrado na arvore a baixo, <br>\n",
    "\n",
    "![img](https://i.imgur.com/iN9PM9W.png)\n",
    "\n",
    "- Ao passar pelo estado `Pouso Alegre` verifica-se se ele é o estado destido, sedo esta hipose falsa, é expandido os a lista de nós vizinhos de `Pouso Alegre`.\n",
    "\n",
    "- Expandindo a lista de nós vizinhos de `Pouso Alegre`, retorna-se os nós: `Santa Rita`, `Cachoeira de Minas`, `Varginha` e `Congonhal`. Como os nós `Santa Rita` e `Cachoeira de Minas`, já estão na lista de nós a serem visitados, são adicionados apenas os nós `Varginha` e `Congonhal`.\n",
    "\n",
    "- Ao visitar `Varginha`, verifica-se que ela não é o nó destino e expande-se seus vizinhos, adicioando na lista de nós a serem visitados o nó `Belo Horizonte`.\n",
    "\n",
    "- Em seguida, vesita-se o nó `Cachoeria de Minas`, verifica-se que ele é o nó destino e finaliza-se a operação."
   ]
  },
  {
   "cell_type": "markdown",
   "metadata": {},
   "source": [
    "### 5)Adicione mais três cidades diferentes e suas respectivas conexões com as rotas já existentes. Rode três exemplos, uma para cada cidade adicionada, mostrando o percurso resultante a partir da cidade de S.R. Sapucaí."
   ]
  },
  {
   "cell_type": "markdown",
   "metadata": {},
   "source": [
    "**Grafo contendo as cidades adicionadas:**<br>\n",
    "![imag3](https://i.imgur.com/ZJVm5qM.png)\n",
    "\n",
    "<br>\n",
    "**Grafo contendo o caminho de Santa Rita até Betin:**\n",
    "![img4](https://i.imgur.com/qxLOF2u.png)\n",
    "\n",
    "<br>\n",
    "**Grafo contendo o caminho de Santa Rita até São Lourenço:**\n",
    "![img5](https://i.imgur.com/CeNyVK8.png)\n",
    "\n",
    "<br>\n",
    "**Grafo contendo o caminho de Santa Rita até Carmo de Minas:**\n",
    "![img6](https://i.imgur.com/gatGEZo.png)"
   ]
  }
 ],
 "metadata": {
  "kernelspec": {
   "display_name": "Python 3",
   "language": "python",
   "name": "python3"
  },
  "language_info": {
   "codemirror_mode": {
    "name": "ipython",
    "version": 3
   },
   "file_extension": ".py",
   "mimetype": "text/x-python",
   "name": "python",
   "nbconvert_exporter": "python",
   "pygments_lexer": "ipython3",
   "version": "3.6.4"
  }
 },
 "nbformat": 4,
 "nbformat_minor": 2
}
