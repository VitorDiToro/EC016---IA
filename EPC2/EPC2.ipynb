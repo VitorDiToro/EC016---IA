{
 "cells": [
  {
   "cell_type": "markdown",
   "metadata": {},
   "source": [
    "**Aluno:** Vitor Rodrigues Di Toro <br>\n",
    "**Matricula:** 983"
   ]
  },
  {
   "cell_type": "markdown",
   "metadata": {},
   "source": [
    "## 1) Abra o arquivo \"PathFindingWithCostExample\", que representa a implementação dara problema de busca de caminho, e descreva quais são as função de \"teste de objetivo\", \"sucessor\" e \"heuristica\", explicando seus funcionamentos."
   ]
  },
  {
   "cell_type": "markdown",
   "metadata": {},
   "source": [
    "**Função Heuristica:** Retorna a distância em linha rete do nó atual até o nó destino.\n",
    "```Python\n",
    "def Heuristic(self, target, current): \n",
    "    \"\"\"\n",
    "    Returns heuristic associated to ``current`` \n",
    "    \"\"\" \n",
    "    custo_linha_reta={('Pouso Alegre', 'Belo Horizonte'): 350,\n",
    "                      ('Santa Rita', 'Belo Horizonte'): 380,\n",
    "                      ('Itajuba', 'Belo Horizonte'): 500,\n",
    "                      ('Cachoeira de Minas', 'Belo Horizonte'): 400,\n",
    "                      ('Varginha', 'Belo Horizonte'): 250,\n",
    "                      ('Congonhal', 'Belo Horizonte'): 420,\n",
    "                      ('Ouro Fino', 'Belo Horizonte'): 530,\n",
    "                      ('Belo Horizonte', 'Belo Horizonte'): 0}\n",
    "\n",
    "    Heuristic = custo_linha_reta.get((current, target))\n",
    "    print(Heuristic)                \n",
    "    return Heuristic\n",
    "```\n",
    "\n",
    "<br>\n",
    "**Função Objetivo:** Verifica se o estado atual é o estado destino, se sim, retorna verdadeiro, caso contrário, retorna falso.\n",
    "\n",
    "```Python\n",
    "def ObjectiveTest(self, current, target): \n",
    "    \"\"\"Return ``True`` if ``current`` state corresponds to the ``target`` state \n",
    "    \"\"\" \n",
    "    solution = False \n",
    "    if current == target:\n",
    "        solution = True\n",
    "    return  solution\n",
    "```"
   ]
  },
  {
   "cell_type": "markdown",
   "metadata": {},
   "source": [
    "## 2) Dentro da função \"heuristica\", altere o custo em linha reta para as cidades do mapa demonstrando durante a aula, onde a cidade objetivo é \"Campinas\"."
   ]
  },
  {
   "cell_type": "markdown",
   "metadata": {},
   "source": [
    "**Alteração na função de Heuristica:**\n",
    "\n",
    "```python\n",
    "def Heuristic(self, target, current): \n",
    "    \"\"\"\n",
    "    Returns heuristic associated to ``current`` \n",
    "    \"\"\" \n",
    "    custo_linha_reta={('Santa Rita'       , 'Campinas'): 165,\n",
    "                      ('Pouso Alegre'     , 'Campinas'): 137,\n",
    "                      ('Congonhal'        , 'Campinas'): 135,\n",
    "                      ('Cambui'           , 'Campinas'): 108,\n",
    "                      ('Itapuiuna'        , 'Campinas'): 139,\n",
    "                      ('Borda da Mata'    , 'Campinas'): 117,\n",
    "                      ('Andradas'         , 'Campinas'): 106,\n",
    "                      ('Jacutinga'        , 'Campinas'):  84,\n",
    "                      ('Camanducaia'      , 'Campinas'):  97,\n",
    "                      ('Esp Santo Pinhal' , 'Campinas'):  86,\n",
    "                      ('Mogi Guacu'       , 'Campinas'):  64,\n",
    "                      ('Itapira'          , 'Campinas'):  58,\n",
    "                      ('Braganca Paulista', 'Campinas'):  54,\n",
    "                      ('Mogi Mirim'       , 'Campinas'):  54,\n",
    "                      ('Atibai'           , 'Campinas'):  57,\n",
    "                      ('Campinas'         , 'Campinas'):   0}\n",
    "\n",
    "    Heuristic = custo_linha_reta.get((current, target))\n",
    "    print(Heuristic)                \n",
    "    return Heuristic\n",
    "```"
   ]
  },
  {
   "cell_type": "markdown",
   "metadata": {},
   "source": [
    "## 3) Dentro de \"main\" altere os valores de \"nodes\" e \"edges\" para corresponder ao mapa apresentado em aula."
   ]
  },
  {
   "cell_type": "markdown",
   "metadata": {},
   "source": [
    "**Nós:**\n",
    "```python\n",
    "nodes = ['Santa Rita',\n",
    "         'Pouso Alegre',\n",
    "         'Congonhal',\n",
    "         'Cambui',\n",
    "         'Itapuiuna',\n",
    "         'Borda da Mata',\n",
    "         'Andradas',\n",
    "         'Jacutinga',\n",
    "         'Camanducaia',\n",
    "         'Esp Santo Pinhal',\n",
    "         'Mogi Guacu',\n",
    "         'Itapira',\n",
    "         'Braganca Paulista',\n",
    "         'Mogi Mirim',\n",
    "         'Atibai',\n",
    "         'Campinas']\n",
    "```\n",
    "\n",
    "**Custos:**\n",
    "\n",
    "```python\n",
    "cost={('Santa Rita'       , 'Pouso Alegre'     ): 28.9,\n",
    "      ('Pouso Alegre'     , 'Cambui'           ): 49.1,\n",
    "      ('Pouso Alegre'     , 'Borda da Mata'    ): 28.8,\n",
    "      ('Pouso Alegre'     , 'Congonhal'        ): 24.3,\n",
    "      ('Cambui'           , 'Camanducaia'      ): 24.7,\n",
    "      ('Camanducaia'      , 'Braganca Paulista'): 60.4,\n",
    "      ('Braganca Paulista', 'Atibai'           ): 25.2,\n",
    "      ('Braganca Paulista', 'Itapira'          ): 82.4,\n",
    "      ('Atibai'           , 'Campinas'         ): 65.6,\n",
    "      ('Itapira'          , 'Campinas'         ): 70.7,\n",
    "      ('Borda da Mata'    , 'Jacutinga'        ): 57.6,\n",
    "      ('Jacutinga'        , 'Itapira'          ): 33.2,\n",
    "      ('Congonhal'        , 'Itapuiuna'        ): 24.6,\n",
    "      ('Itapuiuna'        , 'Andradas'         ): 67.6,\n",
    "      ('Andradas'         , 'Esp Santo Pinhal' ): 28.4,\n",
    "      ('Esp Santo Pinhal' , 'Mogi Guacu'       ): 37.5,\n",
    "      ('Mogi Guacu'       , 'Mogi Mirim'       ): 25.0,\n",
    "      ('Mogi Mirim'       , 'Campinas'         ): 60.1,\n",
    "\n",
    "      ('Pouso Alegre'     , 'Santa Rita'       ): 28.9,\n",
    "      ('Cambui'           , 'Pouso Alegre'     ): 49.1,\n",
    "      ('Borda da Mata'    , 'Pouso Alegre'     ): 28.8,\n",
    "      ('Congonhal'        , 'Pouso Alegre'     ): 24.3,\n",
    "      ('Camanducaia'      , 'Cambui'           ): 24.7,\n",
    "      ('Braganca Paulista', 'Camanducaia'      ): 60.4,\n",
    "      ('Atibai'           , 'Braganca Paulista'): 25.2,\n",
    "      ('Itapira'          , 'Braganca Paulista'): 82.4,\n",
    "      ('Campinas'         , 'Atibai'           ): 65.6,\n",
    "      ('Campinas'         , 'Itapira'          ): 70.7,\n",
    "      ('Jacutinga'        , 'Borda da Mata'    ): 57.6,\n",
    "      ('Itapira'          , 'Jacutinga'        ): 33.2,\n",
    "      ('Itapuiuna'        , 'Congonhal'        ): 24.6,\n",
    "      ('Andradas'         , 'Itapuiuna'        ): 67.6,\n",
    "      ('Esp Santo Pinhal' , 'Andradas'         ): 28.4,\n",
    "      ('Mogi Guacu'       , 'Esp Santo Pinhal' ): 37.5,\n",
    "      ('Mogi Mirim'       , 'Mogi Guacu'       ): 25.0,\n",
    "      ('Campinas'         , 'Mogi Mirim'       ): 60.1 }\n",
    "```\n",
    "\n",
    "**Vértices:**\n",
    "```Python\n",
    "edges=[('Santa Rita'       , 'Pouso Alegre'     ), ('Pouso Alegre'     , 'Santa Rita'       ),\n",
    "       ('Pouso Alegre'     , 'Cambui'           ), ('Cambui'           , 'Pouso Alegre'     ),\n",
    "       ('Pouso Alegre'     , 'Borda da Mata'    ), ('Borda da Mata'    , 'Pouso Alegre'     ),\n",
    "       ('Pouso Alegre'     , 'Congonhal'        ), ('Congonhal'        , 'Pouso Alegre'     ),\n",
    "       ('Cambui'           , 'Camanducaia'      ), ('Camanducaia'      , 'Cambui'           ),\n",
    "       ('Camanducaia'      , 'Braganca Paulista'), ('Braganca Paulista', 'Camanducaia'      ),\n",
    "       ('Braganca Paulista', 'Atibai'           ), ('Atibai'           , 'Braganca Paulista'),\n",
    "       ('Braganca Paulista', 'Itapira'          ), ('Itapira'          , 'Braganca Paulista'),\n",
    "       ('Atibai'           , 'Campinas'         ), ('Campinas'         , 'Atibai'           ),\n",
    "       ('Itapira'          , 'Campinas'         ), ('Campinas'         , 'Itapira'          ),\n",
    "       ('Borda da Mata'    , 'Jacutinga'        ), ('Jacutinga'        , 'Borda da Mata'    ),\n",
    "       ('Jacutinga'        , 'Itapira'          ), ('Itapira'          , 'Jacutinga'        ),\n",
    "       ('Congonhal'        , 'Itapuiuna'        ), ('Itapuiuna'        , 'Congonhal'        ),\n",
    "       ('Itapuiuna'        , 'Andradas'         ), ('Andradas'         , 'Itapuiuna'        ),\n",
    "       ('Andradas'         , 'Esp Santo Pinhal' ), ('Esp Santo Pinhal' , 'Andradas'         ),\n",
    "       ('Esp Santo Pinhal' , 'Mogi Guacu'       ), ('Mogi Guacu'       , 'Esp Santo Pinhal' ),\n",
    "       ('Mogi Guacu'       , 'Mogi Mirim'       ), ('Mogi Mirim'       , 'Mogi Guacu'       ),\n",
    "       ('Mogi Mirim'       , 'Campinas'         ), ('Campinas'         , 'Mogi Mirim'       )]\n",
    "\n",
    "```\n",
    "<br>\n",
    "**Grafo gerado:**\n",
    "![HIrBygB](https://i.imgur.com/HIrBygB.png)"
   ]
  },
  {
   "cell_type": "markdown",
   "metadata": {},
   "source": [
    "## 4) Para resolver o problema de busca de caminho, as soluções devem ser expandidas através de uma estrutura em árvore. Cada um dos filhos de um nó é uma possível solução que deverá ser avaliada comparando-a com o estado objetivo. Cada nó filho é gerado avaliando-se a próximas cidades a partir da cidade atual de acordo com um mapa de expansão. \n",
    "\n",
    "### A. Verifique a função \"ObjectiveTest\", dentro de \"PathFindingWithCostExample\", e explique como a mesma efetua a verificação se um estado representa o estado objetivo. Explique seu funcionamento utilizando como exemplo o estado inicial \"Santa Rita\" e objetivo como \"Campinas\" como parâmetros. \n"
   ]
  },
  {
   "cell_type": "markdown",
   "metadata": {},
   "source": [
    "A função **ObjectiveTest**, testa se o nó atual é o nó destino, retornando True, caso a proposição seja verdadeira, ou  False, caso contrário.\n",
    "<br>\n",
    "```Python\n",
    "def ObjectiveTest(self, current, target): \n",
    "    \"\"\"\n",
    "    Return ``True`` if ``current`` state corresponds to the ``target`` state \n",
    "    \"\"\" \n",
    "    solution = False \n",
    "    if current == target:\n",
    "        solution = True\n",
    "    return  solution\n",
    "```\n",
    "\n",
    "Utilizando Santa Rita como nó inicial e Campinas como nó detino, a função `ObjectiveTest` seja chamada 9 vezes, retornando verdadeiro apenas para o no Campinas. Um grafo representando estas chamadas em quentão pode ser visto na figura abaixo.\n",
    "\n",
    "![vQ1Z4cf](https://i.imgur.com/vQ1Z4cf.png)"
   ]
  },
  {
   "cell_type": "markdown",
   "metadata": {},
   "source": [
    "## 5) A partir dos novos estados avaliados, a função heurística determina a ordem com que os estados serão avaliados. \n",
    "\n",
    "### A. A função \"Heuristic\" é responsável por calcular a heurística associada a um determinado estado. Explique seu funcionamento utilizando o estado \"Pouso Alegre\". "
   ]
  },
  {
   "cell_type": "markdown",
   "metadata": {},
   "source": [
    "A função `Heuristic` retorna a distância em linha reta do nó atual até o nó destino.\n",
    "Por exemplo, a distância do nó Pouso Alegre até o nó destino (Campinas),  é 137Km, que está mapeado no dicionário `custo_linha_reta`.\n",
    "\n",
    "```Python\n",
    "def Heuristic(self, target, current): \n",
    "    \"\"\"\n",
    "    Returns heuristic associated to ``current`` \n",
    "    \"\"\" \n",
    "    custo_linha_reta={('Santa Rita'       , 'Campinas'): 165,\n",
    "                      ('Pouso Alegre'     , 'Campinas'): 137,\n",
    "                      ('Congonhal'        , 'Campinas'): 135,\n",
    "                      ('Cambui'           , 'Campinas'): 108,\n",
    "                      ('Itapuiuna'        , 'Campinas'): 139,\n",
    "                      ('Borda da Mata'    , 'Campinas'): 117,\n",
    "                      ('Andradas'         , 'Campinas'): 106,\n",
    "                      ('Jacutinga'        , 'Campinas'):  84,\n",
    "                      ('Camanducaia'      , 'Campinas'):  97,\n",
    "                      ('Esp Santo Pinhal' , 'Campinas'):  86,\n",
    "                      ('Mogi Guacu'       , 'Campinas'):  64,\n",
    "                      ('Itapira'          , 'Campinas'):  58,\n",
    "                      ('Braganca Paulista', 'Campinas'):  54,\n",
    "                      ('Mogi Mirim'       , 'Campinas'):  54,\n",
    "                      ('Atibai'           , 'Campinas'):  57,\n",
    "                      ('Campinas'         , 'Campinas'):   0}\n",
    "```"
   ]
  },
  {
   "cell_type": "markdown",
   "metadata": {},
   "source": [
    "### B. Rode o código \"PathFindingWithCostExample\" para os seguintes estados iniciais: `start = 'Pouso Alegre'` e `target = 'Campinas'`. Anote quais foram os estados visitados. Compare aos resultados obtidos utilizando a busca em largura (Utilize o exemplo \"PathFindingExample\") "
   ]
  },
  {
   "cell_type": "markdown",
   "metadata": {},
   "source": [
    "**Busca Gulosa:**<br>\n",
    "![hdavctG](https://i.imgur.com/hdavctG.png)\n",
    "\n",
    "<br>\n",
    "\n",
    "**Busca em largura:**<br>\n",
    "![equU0v7](https://i.imgur.com/equU0v7.png)"
   ]
  },
  {
   "cell_type": "markdown",
   "metadata": {},
   "source": [
    "## 6) Adapte o código para funcionar como um Algoritmo A* e rode o código \"PathFindingWithCostExample\" para os seguintes estados iniciais: `start = 'Pouso Alegre'` e `target = 'Campinas'`."
   ]
  },
  {
   "cell_type": "markdown",
   "metadata": {},
   "source": [
    "**Output:** <br>\n",
    "<br>\n",
    "Searching Campinas starting from Pouso Alegre...<br>\n",
    "<br>\n",
    "Visiting 'Pouso Alegre'<br>\n",
    "Santa Rita: 193.9<br>\n",
    "Cambui: 157.1<br>\n",
    "Borda da Mata: 145.8<br>\n",
    "Congonhal: 159.3<br>\n",
    "<br>\n",
    "Visiting 'Borda da Mata'<br>\n",
    "Jacutinga: 141.6<br>\n",
    "<br>\n",
    "Visiting 'Jacutinga'<br>\n",
    "Itapira: 91.2<br>\n",
    "<br>\n",
    "Visiting 'Itapira'<br>\n",
    "Braganca Paulista: 136.4<br>\n",
    "Campinas: 70.7<br>\n",
    "Done!<br>\n",
    "<br>\n",
    "Path found!<br>\n",
    "Pouso Alegre -> Borda da Mata -> Jacutinga -> Itapira -> Campinas<br>"
   ]
  },
  {
   "cell_type": "markdown",
   "metadata": {},
   "source": [
    "## 7) Compare os resultados obtidos utilizando a busca Gulosa e A*. Anote a distância final percorrida em cada caso. "
   ]
  },
  {
   "cell_type": "markdown",
   "metadata": {},
   "source": [
    "**Busca Gulosa:** 225Km \n",
    "\n",
    "**Busca A\\*:** 190,3Km"
   ]
  }
 ],
 "metadata": {
  "kernelspec": {
   "display_name": "Python 3",
   "language": "python",
   "name": "python3"
  },
  "language_info": {
   "codemirror_mode": {
    "name": "ipython",
    "version": 3
   },
   "file_extension": ".py",
   "mimetype": "text/x-python",
   "name": "python",
   "nbconvert_exporter": "python",
   "pygments_lexer": "ipython3",
   "version": "3.6.4"
  }
 },
 "nbformat": 4,
 "nbformat_minor": 2
}
